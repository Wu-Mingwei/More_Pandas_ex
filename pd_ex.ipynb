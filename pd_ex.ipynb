{
 "cells": [
  {
   "cell_type": "code",
   "execution_count": 1,
   "metadata": {},
   "outputs": [],
   "source": [
    "import pandas as pd \n",
    "import numpy as np \n",
    "url = 'https://raw.githubusercontent.com/justmarkham/DAT8/master/data/chipotle.tsv'\n",
    "df = pd.read_csv(url, sep='\\t')"
   ]
  },
  {
   "cell_type": "code",
   "execution_count": 2,
   "metadata": {},
   "outputs": [
    {
     "data": {
      "text/html": [
       "<div>\n",
       "<style scoped>\n",
       "    .dataframe tbody tr th:only-of-type {\n",
       "        vertical-align: middle;\n",
       "    }\n",
       "\n",
       "    .dataframe tbody tr th {\n",
       "        vertical-align: top;\n",
       "    }\n",
       "\n",
       "    .dataframe thead th {\n",
       "        text-align: right;\n",
       "    }\n",
       "</style>\n",
       "<table border=\"1\" class=\"dataframe\">\n",
       "  <thead>\n",
       "    <tr style=\"text-align: right;\">\n",
       "      <th></th>\n",
       "      <th>order_id</th>\n",
       "      <th>quantity</th>\n",
       "      <th>item_name</th>\n",
       "      <th>choice_description</th>\n",
       "      <th>item_price</th>\n",
       "    </tr>\n",
       "  </thead>\n",
       "  <tbody>\n",
       "    <tr>\n",
       "      <th>0</th>\n",
       "      <td>1</td>\n",
       "      <td>1</td>\n",
       "      <td>Chips and Fresh Tomato Salsa</td>\n",
       "      <td>NaN</td>\n",
       "      <td>$2.39</td>\n",
       "    </tr>\n",
       "    <tr>\n",
       "      <th>1</th>\n",
       "      <td>1</td>\n",
       "      <td>1</td>\n",
       "      <td>Izze</td>\n",
       "      <td>[Clementine]</td>\n",
       "      <td>$3.39</td>\n",
       "    </tr>\n",
       "    <tr>\n",
       "      <th>2</th>\n",
       "      <td>1</td>\n",
       "      <td>1</td>\n",
       "      <td>Nantucket Nectar</td>\n",
       "      <td>[Apple]</td>\n",
       "      <td>$3.39</td>\n",
       "    </tr>\n",
       "    <tr>\n",
       "      <th>3</th>\n",
       "      <td>1</td>\n",
       "      <td>1</td>\n",
       "      <td>Chips and Tomatillo-Green Chili Salsa</td>\n",
       "      <td>NaN</td>\n",
       "      <td>$2.39</td>\n",
       "    </tr>\n",
       "    <tr>\n",
       "      <th>4</th>\n",
       "      <td>2</td>\n",
       "      <td>2</td>\n",
       "      <td>Chicken Bowl</td>\n",
       "      <td>[Tomatillo-Red Chili Salsa (Hot), [Black Beans...</td>\n",
       "      <td>$16.98</td>\n",
       "    </tr>\n",
       "  </tbody>\n",
       "</table>\n",
       "</div>"
      ],
      "text/plain": [
       "   order_id  quantity                              item_name  \\\n",
       "0         1         1           Chips and Fresh Tomato Salsa   \n",
       "1         1         1                                   Izze   \n",
       "2         1         1                       Nantucket Nectar   \n",
       "3         1         1  Chips and Tomatillo-Green Chili Salsa   \n",
       "4         2         2                           Chicken Bowl   \n",
       "\n",
       "                                  choice_description item_price  \n",
       "0                                                NaN     $2.39   \n",
       "1                                       [Clementine]     $3.39   \n",
       "2                                            [Apple]     $3.39   \n",
       "3                                                NaN     $2.39   \n",
       "4  [Tomatillo-Red Chili Salsa (Hot), [Black Beans...    $16.98   "
      ]
     },
     "execution_count": 2,
     "metadata": {},
     "output_type": "execute_result"
    }
   ],
   "source": [
    "df.head()"
   ]
  },
  {
   "cell_type": "code",
   "execution_count": 3,
   "metadata": {},
   "outputs": [
    {
     "name": "stdout",
     "output_type": "stream",
     "text": [
      "    order_id  quantity                              item_name  \\\n",
      "0          1         1           Chips and Fresh Tomato Salsa   \n",
      "1          1         1                                   Izze   \n",
      "2          1         1                       Nantucket Nectar   \n",
      "3          1         1  Chips and Tomatillo-Green Chili Salsa   \n",
      "4          2         2                           Chicken Bowl   \n",
      "5          3         1                           Chicken Bowl   \n",
      "6          3         1                          Side of Chips   \n",
      "7          4         1                          Steak Burrito   \n",
      "8          4         1                       Steak Soft Tacos   \n",
      "9          5         1                          Steak Burrito   \n",
      "10         5         1                    Chips and Guacamole   \n",
      "11         6         1                   Chicken Crispy Tacos   \n",
      "12         6         1                     Chicken Soft Tacos   \n",
      "13         7         1                           Chicken Bowl   \n",
      "14         7         1                    Chips and Guacamole   \n",
      "15         8         1  Chips and Tomatillo-Green Chili Salsa   \n",
      "16         8         1                        Chicken Burrito   \n",
      "17         9         1                        Chicken Burrito   \n",
      "18         9         2                            Canned Soda   \n",
      "19        10         1                           Chicken Bowl   \n",
      "\n",
      "                                   choice_description item_price  \n",
      "0                                                 NaN     $2.39   \n",
      "1                                        [Clementine]     $3.39   \n",
      "2                                             [Apple]     $3.39   \n",
      "3                                                 NaN     $2.39   \n",
      "4   [Tomatillo-Red Chili Salsa (Hot), [Black Beans...    $16.98   \n",
      "5   [Fresh Tomato Salsa (Mild), [Rice, Cheese, Sou...    $10.98   \n",
      "6                                                 NaN     $1.69   \n",
      "7   [Tomatillo Red Chili Salsa, [Fajita Vegetables...    $11.75   \n",
      "8   [Tomatillo Green Chili Salsa, [Pinto Beans, Ch...     $9.25   \n",
      "9   [Fresh Tomato Salsa, [Rice, Black Beans, Pinto...     $9.25   \n",
      "10                                                NaN     $4.45   \n",
      "11  [Roasted Chili Corn Salsa, [Fajita Vegetables,...     $8.75   \n",
      "12  [Roasted Chili Corn Salsa, [Rice, Black Beans,...     $8.75   \n",
      "13  [Fresh Tomato Salsa, [Fajita Vegetables, Rice,...    $11.25   \n",
      "14                                                NaN     $4.45   \n",
      "15                                                NaN     $2.39   \n",
      "16  [Tomatillo-Green Chili Salsa (Medium), [Pinto ...     $8.49   \n",
      "17  [Fresh Tomato Salsa (Mild), [Black Beans, Rice...     $8.49   \n",
      "18                                           [Sprite]     $2.18   \n",
      "19  [Tomatillo Red Chili Salsa, [Fajita Vegetables...     $8.75   \n"
     ]
    }
   ],
   "source": [
    "print(df.head(20))"
   ]
  },
  {
   "cell_type": "code",
   "execution_count": 4,
   "metadata": {},
   "outputs": [
    {
     "name": "stdout",
     "output_type": "stream",
     "text": [
      "4622\n",
      "5\n",
      "4622\n"
     ]
    }
   ],
   "source": [
    "print(df.shape[0])\n",
    "print(df.shape[1])\n",
    "print(len(df))"
   ]
  },
  {
   "cell_type": "code",
   "execution_count": 5,
   "metadata": {},
   "outputs": [
    {
     "name": "stdout",
     "output_type": "stream",
     "text": [
      "<class 'pandas.core.frame.DataFrame'>\n",
      "RangeIndex: 4622 entries, 0 to 4621\n",
      "Data columns (total 5 columns):\n",
      " #   Column              Non-Null Count  Dtype \n",
      "---  ------              --------------  ----- \n",
      " 0   order_id            4622 non-null   int64 \n",
      " 1   quantity            4622 non-null   int64 \n",
      " 2   item_name           4622 non-null   object\n",
      " 3   choice_description  3376 non-null   object\n",
      " 4   item_price          4622 non-null   object\n",
      "dtypes: int64(2), object(3)\n",
      "memory usage: 180.7+ KB\n"
     ]
    }
   ],
   "source": [
    "df.info()"
   ]
  },
  {
   "cell_type": "code",
   "execution_count": 6,
   "metadata": {},
   "outputs": [
    {
     "data": {
      "text/html": [
       "<div>\n",
       "<style scoped>\n",
       "    .dataframe tbody tr th:only-of-type {\n",
       "        vertical-align: middle;\n",
       "    }\n",
       "\n",
       "    .dataframe tbody tr th {\n",
       "        vertical-align: top;\n",
       "    }\n",
       "\n",
       "    .dataframe thead th {\n",
       "        text-align: right;\n",
       "    }\n",
       "</style>\n",
       "<table border=\"1\" class=\"dataframe\">\n",
       "  <thead>\n",
       "    <tr style=\"text-align: right;\">\n",
       "      <th></th>\n",
       "      <th>order_id</th>\n",
       "      <th>quantity</th>\n",
       "    </tr>\n",
       "  </thead>\n",
       "  <tbody>\n",
       "    <tr>\n",
       "      <th>count</th>\n",
       "      <td>4622.000000</td>\n",
       "      <td>4622.000000</td>\n",
       "    </tr>\n",
       "    <tr>\n",
       "      <th>mean</th>\n",
       "      <td>927.254868</td>\n",
       "      <td>1.075725</td>\n",
       "    </tr>\n",
       "    <tr>\n",
       "      <th>std</th>\n",
       "      <td>528.890796</td>\n",
       "      <td>0.410186</td>\n",
       "    </tr>\n",
       "    <tr>\n",
       "      <th>min</th>\n",
       "      <td>1.000000</td>\n",
       "      <td>1.000000</td>\n",
       "    </tr>\n",
       "    <tr>\n",
       "      <th>25%</th>\n",
       "      <td>477.250000</td>\n",
       "      <td>1.000000</td>\n",
       "    </tr>\n",
       "    <tr>\n",
       "      <th>50%</th>\n",
       "      <td>926.000000</td>\n",
       "      <td>1.000000</td>\n",
       "    </tr>\n",
       "    <tr>\n",
       "      <th>75%</th>\n",
       "      <td>1393.000000</td>\n",
       "      <td>1.000000</td>\n",
       "    </tr>\n",
       "    <tr>\n",
       "      <th>max</th>\n",
       "      <td>1834.000000</td>\n",
       "      <td>15.000000</td>\n",
       "    </tr>\n",
       "  </tbody>\n",
       "</table>\n",
       "</div>"
      ],
      "text/plain": [
       "          order_id     quantity\n",
       "count  4622.000000  4622.000000\n",
       "mean    927.254868     1.075725\n",
       "std     528.890796     0.410186\n",
       "min       1.000000     1.000000\n",
       "25%     477.250000     1.000000\n",
       "50%     926.000000     1.000000\n",
       "75%    1393.000000     1.000000\n",
       "max    1834.000000    15.000000"
      ]
     },
     "execution_count": 6,
     "metadata": {},
     "output_type": "execute_result"
    }
   ],
   "source": [
    "df.describe()"
   ]
  },
  {
   "cell_type": "code",
   "execution_count": 7,
   "metadata": {},
   "outputs": [
    {
     "data": {
      "text/plain": [
       "order_id                 0\n",
       "quantity                 0\n",
       "item_name                0\n",
       "choice_description    1246\n",
       "item_price               0\n",
       "dtype: int64"
      ]
     },
     "execution_count": 7,
     "metadata": {},
     "output_type": "execute_result"
    }
   ],
   "source": [
    "df.isna().sum()"
   ]
  },
  {
   "cell_type": "code",
   "execution_count": 8,
   "metadata": {},
   "outputs": [
    {
     "name": "stdout",
     "output_type": "stream",
     "text": [
      "Index(['order_id', 'quantity', 'item_name', 'choice_description',\n",
      "       'item_price'],\n",
      "      dtype='object')\n",
      "RangeIndex(start=0, stop=4622, step=1)\n"
     ]
    }
   ],
   "source": [
    "print(df.columns)\n",
    "print(df.index)"
   ]
  },
  {
   "cell_type": "code",
   "execution_count": 9,
   "metadata": {},
   "outputs": [
    {
     "name": "stdout",
     "output_type": "stream",
     "text": [
      "sort by most order:                                        order_id  quantity  \\\n",
      "item_name                                                   \n",
      "Chicken Bowl                             713926       761   \n",
      "Chicken Burrito                          497303       591   \n",
      "Chips and Guacamole                      449959       506   \n",
      "Steak Burrito                            328437       386   \n",
      "Canned Soft Drink                        304753       351   \n",
      "Chips                                    208004       230   \n",
      "Steak Bowl                               193752       221   \n",
      "Bottled Water                            175944       211   \n",
      "Chips and Fresh Tomato Salsa             100419       130   \n",
      "Canned Soda                               76396       126   \n",
      "Chicken Salad Bowl                       117104       123   \n",
      "Chicken Soft Tacos                        98395       120   \n",
      "Side of Chips                             84769       110   \n",
      "Veggie Burrito                            80962        97   \n",
      "Barbacoa Burrito                          74718        91   \n",
      "Veggie Bowl                               72270        87   \n",
      "Carnitas Bowl                             62742        71   \n",
      "Barbacoa Bowl                             53972        66   \n",
      "Carnitas Burrito                          51652        60   \n",
      "Steak Soft Tacos                          50177        56   \n",
      "6 Pack Soft Drink                         52322        55   \n",
      "Chicken Crispy Tacos                      47382        50   \n",
      "Chips and Tomatillo Red Chili Salsa       45556        50   \n",
      "Chips and Tomatillo Green Chili Salsa     41170        45   \n",
      "Carnitas Soft Tacos                       37673        40   \n",
      "Steak Crispy Tacos                        35818        36   \n",
      "Chips and Tomatillo-Green Chili Salsa     21826        33   \n",
      "Steak Salad Bowl                          29590        31   \n",
      "Nantucket Nectar                          21814        29   \n",
      "Chips and Tomatillo-Red Chili Salsa       18344        25   \n",
      "Barbacoa Soft Tacos                       18725        25   \n",
      "Chips and Roasted Chili Corn Salsa        14999        23   \n",
      "Izze                                      10587        20   \n",
      "Veggie Salad Bowl                         17303        18   \n",
      "Chips and Roasted Chili-Corn Salsa        17462        18   \n",
      "Barbacoa Crispy Tacos                      5613        12   \n",
      "Barbacoa Salad Bowl                        9708        10   \n",
      "Chicken Salad                             10465         9   \n",
      "Carnitas Crispy Tacos                      5868         8   \n",
      "Veggie Soft Tacos                          5520         8   \n",
      "Burrito                                    1550         6   \n",
      "Carnitas Salad Bowl                        6693         6   \n",
      "Veggie Salad                               7265         6   \n",
      "Bowl                                        472         4   \n",
      "Steak Salad                                2362         4   \n",
      "Salad                                      1150         2   \n",
      "Crispy Tacos                                434         2   \n",
      "Carnitas Salad                             1500         1   \n",
      "Chips and Mild Fresh Tomato Salsa           279         1   \n",
      "Veggie Crispy Tacos                         668         1   \n",
      "\n",
      "                                                                      choice_description  \\\n",
      "item_name                                                                                  \n",
      "Chicken Bowl                           [Tomatillo-Red Chili Salsa (Hot), [Black Beans...   \n",
      "Chicken Burrito                        [Tomatillo-Green Chili Salsa (Medium), [Pinto ...   \n",
      "Chips and Guacamole                                                                    0   \n",
      "Steak Burrito                          [Tomatillo Red Chili Salsa, [Fajita Vegetables...   \n",
      "Canned Soft Drink                      [Coke][Sprite][Coke][Coke][Lemonade][Sprite][D...   \n",
      "Chips                                                                                  0   \n",
      "Steak Bowl                             [Fresh Tomato Salsa (Mild), [Black Beans, Rice...   \n",
      "Bottled Water                                                                          0   \n",
      "Chips and Fresh Tomato Salsa                                                           0   \n",
      "Canned Soda                            [Sprite][Dr. Pepper][Mountain Dew][Sprite][Dr....   \n",
      "Chicken Salad Bowl                     [Fresh Tomato Salsa, [Fajita Vegetables, Pinto...   \n",
      "Chicken Soft Tacos                     [Roasted Chili Corn Salsa, [Rice, Black Beans,...   \n",
      "Side of Chips                                                                          0   \n",
      "Veggie Burrito                         [Tomatillo Red Chili Salsa, [Fajita Vegetables...   \n",
      "Barbacoa Burrito                       [[Fresh Tomato Salsa (Mild), Tomatillo-Green C...   \n",
      "Veggie Bowl                            [Fresh Tomato Salsa, [Fajita Vegetables, Rice,...   \n",
      "Carnitas Bowl                          [Tomatillo-Red Chili Salsa (Hot), [Black Beans...   \n",
      "Barbacoa Bowl                          [Roasted Chili Corn Salsa, [Fajita Vegetables,...   \n",
      "Carnitas Burrito                       [[Tomatillo-Green Chili Salsa (Medium), Roaste...   \n",
      "Steak Soft Tacos                       [Tomatillo Green Chili Salsa, [Pinto Beans, Ch...   \n",
      "6 Pack Soft Drink                      [Sprite][Diet Coke][Coke][Diet Coke][Diet Coke...   \n",
      "Chicken Crispy Tacos                   [Roasted Chili Corn Salsa, [Fajita Vegetables,...   \n",
      "Chips and Tomatillo Red Chili Salsa                                                    0   \n",
      "Chips and Tomatillo Green Chili Salsa                                                  0   \n",
      "Carnitas Soft Tacos                    [Tomatillo Green Chili Salsa, [Fajita Vegetabl...   \n",
      "Steak Crispy Tacos                     [Fresh Tomato Salsa, Sour Cream][[Roasted Chil...   \n",
      "Chips and Tomatillo-Green Chili Salsa                                                  0   \n",
      "Steak Salad Bowl                       [Tomatillo Red Chili Salsa, [Black Beans, Chee...   \n",
      "Nantucket Nectar                       [Apple][Pomegranate Cherry][Pineapple Orange B...   \n",
      "Chips and Tomatillo-Red Chili Salsa                                                    0   \n",
      "Barbacoa Soft Tacos                    [Fresh Tomato Salsa, [Fajita Vegetables, Black...   \n",
      "Chips and Roasted Chili Corn Salsa                                                     0   \n",
      "Izze                                   [Clementine][Grapefruit][Blackberry][Blackberr...   \n",
      "Veggie Salad Bowl                      [Fresh Tomato Salsa, [Fajita Vegetables, Rice,...   \n",
      "Chips and Roasted Chili-Corn Salsa                                                     0   \n",
      "Barbacoa Crispy Tacos                  [Tomatillo Red Chili Salsa, [Rice, Black Beans...   \n",
      "Barbacoa Salad Bowl                    [Fresh Tomato Salsa, [Rice, Fajita Vegetables,...   \n",
      "Chicken Salad                          [Roasted Chili Corn Salsa (Medium), [Black Bea...   \n",
      "Carnitas Crispy Tacos                  [Roasted Chili Corn Salsa][Tomatillo Green Chi...   \n",
      "Veggie Soft Tacos                      [Tomatillo Red Chili Salsa, [Fajita Vegetables...   \n",
      "Burrito                                [Adobo-Marinated and Grilled Chicken, Pinto Be...   \n",
      "Carnitas Salad Bowl                    [Fresh Tomato Salsa, [Rice, Black Beans, Chees...   \n",
      "Veggie Salad                           [[Fresh Tomato Salsa (Mild), Roasted Chili Cor...   \n",
      "Bowl                                   [Braised Carnitas, Pinto Beans, [Sour Cream, C...   \n",
      "Steak Salad                            [Tomatillo-Red Chili Salsa (Hot), [Black Beans...   \n",
      "Salad                                  [Brown Rice, Adobo-Marinated and Grilled Chick...   \n",
      "Crispy Tacos                           [Adobo-Marinated and Grilled Steak][Adobo-Mari...   \n",
      "Carnitas Salad                         [[Fresh Tomato Salsa (Mild), Roasted Chili Cor...   \n",
      "Chips and Mild Fresh Tomato Salsa                                                      0   \n",
      "Veggie Crispy Tacos                    [Fresh Tomato Salsa (Mild), [Pinto Beans, Rice...   \n",
      "\n",
      "                                                                              item_price  \n",
      "item_name                                                                                 \n",
      "Chicken Bowl                           $16.98 $10.98 $11.25 $8.75 $8.49 $11.25 $8.75 ...  \n",
      "Chicken Burrito                        $8.49 $8.49 $10.98 $8.49 $10.98 $10.98 $8.75 $...  \n",
      "Chips and Guacamole                    $4.45 $4.45 $4.45 $4.45 $4.45 $3.99 $4.45 $3.9...  \n",
      "Steak Burrito                          $11.75 $9.25 $8.99 $11.75 $8.99 $8.99 $8.99 $8...  \n",
      "Canned Soft Drink                      $1.25 $1.25 $1.25 $1.25 $1.25 $1.25 $1.25 $1.2...  \n",
      "Chips                                  $2.15 $2.15 $2.15 $2.15 $2.15 $2.15 $4.30 $2.1...  \n",
      "Steak Bowl                             $8.99 $8.99 $11.75 $11.75 $8.99 $11.48 $9.25 $...  \n",
      "Bottled Water                          $1.09 $1.09 $1.09 $1.50 $1.50 $1.50 $3.00 $1.5...  \n",
      "Chips and Fresh Tomato Salsa           $2.39 $2.39 $2.39 $2.95 $2.95 $2.95 $2.95 $2.3...  \n",
      "Canned Soda                            $2.18 $1.09 $2.18 $1.09 $1.09 $1.09 $1.09 $2.1...  \n",
      "Chicken Salad Bowl                     $8.75 $22.50 $22.50 $8.75 $17.50 $8.75 $8.75 $...  \n",
      "Chicken Soft Tacos                     $8.75 $8.75 $8.75 $8.75 $11.25 $8.49 $8.49 $8....  \n",
      "Side of Chips                          $1.69 $1.69 $1.69 $1.69 $1.69 $1.69 $1.69 $1.6...  \n",
      "Veggie Burrito                         $11.25 $8.49 $11.25 $11.25 $10.98 $8.49 $8.49 ...  \n",
      "Barbacoa Burrito                       $8.99 $9.25 $9.25 $11.75 $11.75 $9.25 $8.99 $1...  \n",
      "Veggie Bowl                            $11.25 $8.49 $11.25 $11.25 $8.49 $11.25 $11.25...  \n",
      "Carnitas Bowl                          $8.99 $11.75 $9.25 $11.48 $8.99 $8.99 $23.50 $...  \n",
      "Barbacoa Bowl                          $11.75 $11.75 $9.25 $8.99 $9.25 $11.75 $9.25 $...  \n",
      "Carnitas Burrito                       $8.99 $9.25 $11.75 $9.25 $9.25 $9.25 $11.75 $9...  \n",
      "Steak Soft Tacos                       $9.25 $9.25 $8.99 $9.25 $8.99 $8.99 $9.25 $9.2...  \n",
      "6 Pack Soft Drink                      $6.49 $6.49 $6.49 $6.49 $6.49 $6.49 $6.49 $6.4...  \n",
      "Chicken Crispy Tacos                   $8.75 $17.50 $11.25 $8.49 $8.49 $11.25 $8.75 $...  \n",
      "Chips and Tomatillo Red Chili Salsa    $2.95 $2.95 $2.95 $2.95 $2.95 $2.95 $2.95 $2.9...  \n",
      "Chips and Tomatillo Green Chili Salsa  $2.95 $2.95 $5.90 $2.95 $2.95 $2.95 $2.95 $2.9...  \n",
      "Carnitas Soft Tacos                    $9.25 $9.25 $9.25 $9.25 $9.25 $8.99 $8.99 $8.9...  \n",
      "Steak Crispy Tacos                     $9.25 $8.99 $9.25 $8.69 $8.99 $9.25 $8.99 $9.2...  \n",
      "Chips and Tomatillo-Green Chili Salsa  $2.39 $2.39 $2.39 $2.39 $2.39 $2.39 $2.39 $2.3...  \n",
      "Steak Salad Bowl                       $23.78 $11.89 $9.39 $23.78 $11.89 $11.89 $11.8...  \n",
      "Nantucket Nectar                       $3.39 $3.39 $3.39 $3.39 $3.39 $3.39 $6.78 $3.3...  \n",
      "Chips and Tomatillo-Red Chili Salsa    $2.39 $2.39 $2.39 $2.39 $2.39 $2.39 $2.39 $2.3...  \n",
      "Barbacoa Soft Tacos                    $9.25 $9.25 $8.99 $9.25 $9.25 $11.75 $11.75 $9...  \n",
      "Chips and Roasted Chili Corn Salsa     $2.95 $2.95 $2.95 $2.95 $2.95 $2.95 $2.95 $2.9...  \n",
      "Izze                                   $3.39 $3.39 $3.39 $3.39 $3.39 $3.39 $3.39 $3.3...  \n",
      "Veggie Salad Bowl                      $11.25 $11.25 $11.25 $11.25 $8.75 $8.75 $11.25...  \n",
      "Chips and Roasted Chili-Corn Salsa     $2.39 $2.39 $2.39 $2.39 $2.39 $2.39 $2.39 $2.3...  \n",
      "Barbacoa Crispy Tacos                  $11.75 $9.25 $11.48 $11.75 $9.25 $9.25 $8.99 $...  \n",
      "Barbacoa Salad Bowl                    $11.89 $11.89 $9.39 $9.39 $9.39 $11.89 $11.89 ...  \n",
      "Chicken Salad                          $10.98 $10.98 $8.49 $8.49 $8.49 $8.49 $8.49 $8...  \n",
      "Carnitas Crispy Tacos                      $9.25 $11.75 $8.99 $11.75 $8.99 $17.98 $9.25   \n",
      "Veggie Soft Tacos                          $11.25 $8.75 $8.49 $11.25 $8.75 $8.49 $16.98   \n",
      "Burrito                                             $7.40 $7.40 $7.40 $7.40 $7.40 $7.40   \n",
      "Carnitas Salad Bowl                             $11.89 $9.39 $11.89 $9.39 $11.89 $11.89   \n",
      "Veggie Salad                                        $8.49 $8.49 $8.49 $8.49 $8.49 $8.49   \n",
      "Bowl                                                                       $22.20 $7.40   \n",
      "Steak Salad                                                     $8.99 $8.99 $8.99 $8.69   \n",
      "Salad                                                                       $7.40 $7.40   \n",
      "Crispy Tacos                                                                $7.40 $7.40   \n",
      "Carnitas Salad                                                                    $8.99   \n",
      "Chips and Mild Fresh Tomato Salsa                                                 $3.00   \n",
      "Veggie Crispy Tacos                                                               $8.49   \n"
     ]
    }
   ],
   "source": [
    "most_order = df.groupby('item_name').sum().sort_values('quantity', ascending=False)\n",
    "print(f\"sort by most order: {most_order}\")\n",
    "\n"
   ]
  },
  {
   "cell_type": "code",
   "execution_count": 10,
   "metadata": {},
   "outputs": [
    {
     "name": "stdout",
     "output_type": "stream",
     "text": [
      "761\n"
     ]
    }
   ],
   "source": [
    "print(most_order['quantity'].values[0])"
   ]
  },
  {
   "cell_type": "code",
   "execution_count": 11,
   "metadata": {},
   "outputs": [
    {
     "name": "stdout",
     "output_type": "stream",
     "text": [
      "                                                    order_id  quantity  \\\n",
      "choice_description                                                       \n",
      "[Fresh Tomato Salsa, [Black Beans, Pinto Beans,...       974         1   \n",
      "[[Tomatillo-Red Chili Salsa (Hot), Tomatillo-Gr...      1215         1   \n",
      "[Tomatillo Green Chili Salsa, [Black Beans, Che...      1163         1   \n",
      "[[Tomatillo-Red Chili Salsa (Hot), Roasted Chil...       186         1   \n",
      "[[Tomatillo-Red Chili Salsa (Hot), Fresh Tomato...      1010         1   \n",
      "...                                                      ...       ...   \n",
      "[Fresh Tomato Salsa, [Rice, Black Beans, Cheese...     36041        42   \n",
      "[Fresh Tomato Salsa, [Rice, Black Beans, Cheese...     43088        49   \n",
      "[Sprite]                                               80426        89   \n",
      "[Coke]                                                122752       143   \n",
      "[Diet Coke]                                           123455       159   \n",
      "\n",
      "                                                                                            item_name  \\\n",
      "choice_description                                                                                      \n",
      "[Fresh Tomato Salsa, [Black Beans, Pinto Beans,...                                   Carnitas Burrito   \n",
      "[[Tomatillo-Red Chili Salsa (Hot), Tomatillo-Gr...                                       Chicken Bowl   \n",
      "[Tomatillo Green Chili Salsa, [Black Beans, Che...                                    Chicken Burrito   \n",
      "[[Tomatillo-Red Chili Salsa (Hot), Roasted Chil...                                 Chicken Soft Tacos   \n",
      "[[Tomatillo-Red Chili Salsa (Hot), Fresh Tomato...                                      Carnitas Bowl   \n",
      "...                                                                                               ...   \n",
      "[Fresh Tomato Salsa, [Rice, Black Beans, Cheese...  Chicken BowlChicken BowlChicken BurritoCarnita...   \n",
      "[Fresh Tomato Salsa, [Rice, Black Beans, Cheese...  Chicken BowlChicken BurritoChicken BowlChicken...   \n",
      "[Sprite]                                            Canned SodaCanned SodaCanned Soft Drink6 Pack ...   \n",
      "[Coke]                                              Canned Soft DrinkCanned Soft DrinkCanned Soft ...   \n",
      "[Diet Coke]                                         Canned SodaCanned SodaCanned Soda6 Pack Soft D...   \n",
      "\n",
      "                                                                                           item_price  \n",
      "choice_description                                                                                     \n",
      "[Fresh Tomato Salsa, [Black Beans, Pinto Beans,...                                             $9.25   \n",
      "[[Tomatillo-Red Chili Salsa (Hot), Tomatillo-Gr...                                             $8.49   \n",
      "[Tomatillo Green Chili Salsa, [Black Beans, Che...                                            $11.25   \n",
      "[[Tomatillo-Red Chili Salsa (Hot), Roasted Chil...                                            $10.98   \n",
      "[[Tomatillo-Red Chili Salsa (Hot), Fresh Tomato...                                            $11.48   \n",
      "...                                                                                               ...  \n",
      "[Fresh Tomato Salsa, [Rice, Black Beans, Cheese...  $17.50 $8.75 $8.75 $9.25 $8.75 $9.25 $8.75 $8....  \n",
      "[Fresh Tomato Salsa, [Rice, Black Beans, Cheese...  $8.75 $8.75 $8.75 $8.75 $9.25 $8.75 $8.75 $8.7...  \n",
      "[Sprite]                                            $2.18 $1.09 $1.25 $6.49 $1.25 $1.25 $1.09 $1.2...  \n",
      "[Coke]                                              $1.25 $1.25 $1.25 $6.49 $1.25 $1.25 $1.25 $1.2...  \n",
      "[Diet Coke]                                         $2.18 $1.09 $1.09 $6.49 $2.18 $1.25 $1.09 $6.4...  \n",
      "\n",
      "[1043 rows x 4 columns]\n"
     ]
    }
   ],
   "source": [
    "most_order_choice = df.groupby('choice_description').sum().sort_values('quantity', ascending=True)\n",
    "print(most_order_choice)"
   ]
  },
  {
   "cell_type": "code",
   "execution_count": 12,
   "metadata": {},
   "outputs": [
    {
     "name": "stdout",
     "output_type": "stream",
     "text": [
      "object\n",
      "float64\n"
     ]
    }
   ],
   "source": [
    "print(df['item_price'].dtype)\n",
    "df['item_price'] = df['item_price'].apply(lambda x:float(x[1:]))\n",
    "print(df['item_price'].dtype)"
   ]
  },
  {
   "cell_type": "code",
   "execution_count": 13,
   "metadata": {},
   "outputs": [
    {
     "name": "stdout",
     "output_type": "stream",
     "text": [
      "39237.02\n"
     ]
    }
   ],
   "source": [
    "df['total_price'] = df['quantity'] * df['item_price']\n",
    "total = df['total_price'].sum()\n",
    "print(total)"
   ]
  },
  {
   "cell_type": "code",
   "execution_count": 14,
   "metadata": {},
   "outputs": [
    {
     "name": "stdout",
     "output_type": "stream",
     "text": [
      "total orders: 1834\n"
     ]
    }
   ],
   "source": [
    "total_orders = df['order_id'].nunique()\n",
    "print(f\"total orders: {total_orders}\")"
   ]
  },
  {
   "cell_type": "code",
   "execution_count": 15,
   "metadata": {},
   "outputs": [
    {
     "name": "stdout",
     "output_type": "stream",
     "text": [
      "average per order: 21.39423118865867\n",
      "50\n"
     ]
    }
   ],
   "source": [
    "avg = total / total_orders\n",
    "diff = df['item_name'].nunique()\n",
    "print(f\"average per order: {avg}\")\n",
    "print(diff)"
   ]
  },
  {
   "cell_type": "code",
   "execution_count": 16,
   "metadata": {},
   "outputs": [
    {
     "name": "stdout",
     "output_type": "stream",
     "text": [
      "average per order: 21.39423118865867\n"
     ]
    }
   ],
   "source": [
    "df_group = df.groupby('order_id').sum()\n",
    "avg_per_order = df_group['total_price'].mean()\n",
    "print(f\"average per order: {avg_per_order}\")"
   ]
  },
  {
   "cell_type": "code",
   "execution_count": 29,
   "metadata": {},
   "outputs": [
    {
     "name": "stdout",
     "output_type": "stream",
     "text": [
      "test:                             mean   min    max\n",
      "item_name                                    \n",
      "6 Pack Soft Drink       6.610185  6.49  12.98\n",
      "Barbacoa Bowl          10.187273  8.69  11.75\n",
      "Barbacoa Burrito        9.832418  8.69  11.75\n",
      "Barbacoa Crispy Tacos  10.928182  8.99  18.50\n",
      "Barbacoa Salad Bowl    10.640000  9.39  11.89\n",
      "total: mean    10.187273\n",
      "min      8.690000\n",
      "max     11.750000\n",
      "Name: Barbacoa Bowl, dtype: float64\n",
      "group by:                     mean   min    max\n",
      "item_name                            \n",
      "Barbacoa Bowl  10.187273  8.69  11.75\n"
     ]
    }
   ],
   "source": [
    "print(f\"test: {df.groupby('item_name').item_price.agg(['mean', 'min', 'max']).head()}\")\n",
    "print(f\"total: {df.groupby('item_name')['item_price'].agg(['mean' , 'min', 'max']).loc['Barbacoa Bowl']}\")\n",
    "print(f\"group by: {df[df['item_name'] == 'Barbacoa Bowl'].groupby('item_name')['item_price'].agg(['mean' , 'min', 'max'])}\")"
   ]
  },
  {
   "cell_type": "code",
   "execution_count": 21,
   "metadata": {},
   "outputs": [
    {
     "data": {
      "text/html": [
       "<div>\n",
       "<style scoped>\n",
       "    .dataframe tbody tr th:only-of-type {\n",
       "        vertical-align: middle;\n",
       "    }\n",
       "\n",
       "    .dataframe tbody tr th {\n",
       "        vertical-align: top;\n",
       "    }\n",
       "\n",
       "    .dataframe thead th {\n",
       "        text-align: right;\n",
       "    }\n",
       "</style>\n",
       "<table border=\"1\" class=\"dataframe\">\n",
       "  <thead>\n",
       "    <tr style=\"text-align: right;\">\n",
       "      <th></th>\n",
       "      <th>order_id</th>\n",
       "      <th>quantity</th>\n",
       "      <th>item_price</th>\n",
       "      <th>total_price</th>\n",
       "    </tr>\n",
       "  </thead>\n",
       "  <tbody>\n",
       "    <tr>\n",
       "      <th>count</th>\n",
       "      <td>66.000000</td>\n",
       "      <td>66.0</td>\n",
       "      <td>66.000000</td>\n",
       "      <td>66.000000</td>\n",
       "    </tr>\n",
       "    <tr>\n",
       "      <th>mean</th>\n",
       "      <td>817.757576</td>\n",
       "      <td>1.0</td>\n",
       "      <td>10.187273</td>\n",
       "      <td>10.187273</td>\n",
       "    </tr>\n",
       "    <tr>\n",
       "      <th>std</th>\n",
       "      <td>538.969246</td>\n",
       "      <td>0.0</td>\n",
       "      <td>1.260994</td>\n",
       "      <td>1.260994</td>\n",
       "    </tr>\n",
       "    <tr>\n",
       "      <th>min</th>\n",
       "      <td>19.000000</td>\n",
       "      <td>1.0</td>\n",
       "      <td>8.690000</td>\n",
       "      <td>8.690000</td>\n",
       "    </tr>\n",
       "    <tr>\n",
       "      <th>25%</th>\n",
       "      <td>428.750000</td>\n",
       "      <td>1.0</td>\n",
       "      <td>9.250000</td>\n",
       "      <td>9.250000</td>\n",
       "    </tr>\n",
       "    <tr>\n",
       "      <th>50%</th>\n",
       "      <td>690.500000</td>\n",
       "      <td>1.0</td>\n",
       "      <td>9.250000</td>\n",
       "      <td>9.250000</td>\n",
       "    </tr>\n",
       "    <tr>\n",
       "      <th>75%</th>\n",
       "      <td>1259.250000</td>\n",
       "      <td>1.0</td>\n",
       "      <td>11.750000</td>\n",
       "      <td>11.750000</td>\n",
       "    </tr>\n",
       "    <tr>\n",
       "      <th>max</th>\n",
       "      <td>1825.000000</td>\n",
       "      <td>1.0</td>\n",
       "      <td>11.750000</td>\n",
       "      <td>11.750000</td>\n",
       "    </tr>\n",
       "  </tbody>\n",
       "</table>\n",
       "</div>"
      ],
      "text/plain": [
       "          order_id  quantity  item_price  total_price\n",
       "count    66.000000      66.0   66.000000    66.000000\n",
       "mean    817.757576       1.0   10.187273    10.187273\n",
       "std     538.969246       0.0    1.260994     1.260994\n",
       "min      19.000000       1.0    8.690000     8.690000\n",
       "25%     428.750000       1.0    9.250000     9.250000\n",
       "50%     690.500000       1.0    9.250000     9.250000\n",
       "75%    1259.250000       1.0   11.750000    11.750000\n",
       "max    1825.000000       1.0   11.750000    11.750000"
      ]
     },
     "execution_count": 21,
     "metadata": {},
     "output_type": "execute_result"
    }
   ],
   "source": [
    "df[df['item_name'] == 'Barbacoa Bowl'].describe()"
   ]
  },
  {
   "cell_type": "code",
   "execution_count": 30,
   "metadata": {},
   "outputs": [
    {
     "name": "stdout",
     "output_type": "stream",
     "text": [
      "total:                             mean   min    max\n",
      "item_name                                    \n",
      "6 Pack Soft Drink       6.610185  6.49  12.98\n",
      "Barbacoa Bowl          10.187273  8.69  11.75\n",
      "Barbacoa Burrito        9.832418  8.69  11.75\n",
      "Barbacoa Crispy Tacos  10.928182  8.99  18.50\n",
      "Barbacoa Salad Bowl    10.640000  9.39  11.89\n"
     ]
    }
   ],
   "source": [
    "print(f\"total: {df.groupby('item_name')['item_price'].agg(['mean','min','max']).head()}\")"
   ]
  },
  {
   "cell_type": "code",
   "execution_count": 33,
   "metadata": {},
   "outputs": [
    {
     "data": {
      "text/html": [
       "<div>\n",
       "<style scoped>\n",
       "    .dataframe tbody tr th:only-of-type {\n",
       "        vertical-align: middle;\n",
       "    }\n",
       "\n",
       "    .dataframe tbody tr th {\n",
       "        vertical-align: top;\n",
       "    }\n",
       "\n",
       "    .dataframe thead th {\n",
       "        text-align: right;\n",
       "    }\n",
       "</style>\n",
       "<table border=\"1\" class=\"dataframe\">\n",
       "  <thead>\n",
       "    <tr style=\"text-align: right;\">\n",
       "      <th></th>\n",
       "      <th>order_id</th>\n",
       "      <th>quantity</th>\n",
       "      <th>item_name</th>\n",
       "      <th>choice_description</th>\n",
       "    </tr>\n",
       "  </thead>\n",
       "  <tbody>\n",
       "    <tr>\n",
       "      <th>0</th>\n",
       "      <td>1</td>\n",
       "      <td>1</td>\n",
       "      <td>Chips and Fresh Tomato Salsa</td>\n",
       "      <td>NaN</td>\n",
       "    </tr>\n",
       "    <tr>\n",
       "      <th>1</th>\n",
       "      <td>1</td>\n",
       "      <td>1</td>\n",
       "      <td>Izze</td>\n",
       "      <td>[Clementine]</td>\n",
       "    </tr>\n",
       "    <tr>\n",
       "      <th>2</th>\n",
       "      <td>1</td>\n",
       "      <td>1</td>\n",
       "      <td>Nantucket Nectar</td>\n",
       "      <td>[Apple]</td>\n",
       "    </tr>\n",
       "    <tr>\n",
       "      <th>3</th>\n",
       "      <td>1</td>\n",
       "      <td>1</td>\n",
       "      <td>Chips and Tomatillo-Green Chili Salsa</td>\n",
       "      <td>NaN</td>\n",
       "    </tr>\n",
       "    <tr>\n",
       "      <th>4</th>\n",
       "      <td>2</td>\n",
       "      <td>2</td>\n",
       "      <td>Chicken Bowl</td>\n",
       "      <td>[Tomatillo-Red Chili Salsa (Hot), [Black Beans...</td>\n",
       "    </tr>\n",
       "    <tr>\n",
       "      <th>5</th>\n",
       "      <td>3</td>\n",
       "      <td>1</td>\n",
       "      <td>Chicken Bowl</td>\n",
       "      <td>[Fresh Tomato Salsa (Mild), [Rice, Cheese, Sou...</td>\n",
       "    </tr>\n",
       "    <tr>\n",
       "      <th>6</th>\n",
       "      <td>3</td>\n",
       "      <td>1</td>\n",
       "      <td>Side of Chips</td>\n",
       "      <td>NaN</td>\n",
       "    </tr>\n",
       "    <tr>\n",
       "      <th>7</th>\n",
       "      <td>4</td>\n",
       "      <td>1</td>\n",
       "      <td>Steak Burrito</td>\n",
       "      <td>[Tomatillo Red Chili Salsa, [Fajita Vegetables...</td>\n",
       "    </tr>\n",
       "  </tbody>\n",
       "</table>\n",
       "</div>"
      ],
      "text/plain": [
       "   order_id  quantity                              item_name  \\\n",
       "0         1         1           Chips and Fresh Tomato Salsa   \n",
       "1         1         1                                   Izze   \n",
       "2         1         1                       Nantucket Nectar   \n",
       "3         1         1  Chips and Tomatillo-Green Chili Salsa   \n",
       "4         2         2                           Chicken Bowl   \n",
       "5         3         1                           Chicken Bowl   \n",
       "6         3         1                          Side of Chips   \n",
       "7         4         1                          Steak Burrito   \n",
       "\n",
       "                                  choice_description  \n",
       "0                                                NaN  \n",
       "1                                       [Clementine]  \n",
       "2                                            [Apple]  \n",
       "3                                                NaN  \n",
       "4  [Tomatillo-Red Chili Salsa (Hot), [Black Beans...  \n",
       "5  [Fresh Tomato Salsa (Mild), [Rice, Cheese, Sou...  \n",
       "6                                                NaN  \n",
       "7  [Tomatillo Red Chili Salsa, [Fajita Vegetables...  "
      ]
     },
     "execution_count": 33,
     "metadata": {},
     "output_type": "execute_result"
    }
   ],
   "source": [
    "df.loc[0:7, \"order_id\":\"choice_description\"]"
   ]
  },
  {
   "cell_type": "code",
   "execution_count": null,
   "metadata": {},
   "outputs": [],
   "source": []
  }
 ],
 "metadata": {
  "kernelspec": {
   "display_name": "Python 3",
   "language": "python",
   "name": "python3"
  },
  "language_info": {
   "codemirror_mode": {
    "name": "ipython",
    "version": 3
   },
   "file_extension": ".py",
   "mimetype": "text/x-python",
   "name": "python",
   "nbconvert_exporter": "python",
   "pygments_lexer": "ipython3",
   "version": "3.11.9"
  }
 },
 "nbformat": 4,
 "nbformat_minor": 2
}
